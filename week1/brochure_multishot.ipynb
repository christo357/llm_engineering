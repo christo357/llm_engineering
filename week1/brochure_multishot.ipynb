{
 "cells": [
  {
   "cell_type": "markdown",
   "id": "e0584748",
   "metadata": {},
   "source": [
    "1. Get contents and links from the website\n",
    "2. use llm to select the relevant links\n",
    "3. get the detailed contents from the website and the links. \n",
    "5. use the content to create a brochure with llm"
   ]
  },
  {
   "cell_type": "code",
   "execution_count": 1,
   "id": "606ec1ce",
   "metadata": {},
   "outputs": [],
   "source": [
    "# imports\n",
    "# If these fail, please check you're running from an 'activated' environment with (llms) in the command prompt\n",
    "\n",
    "import os\n",
    "import requests\n",
    "import json\n",
    "from typing import List\n",
    "from dotenv import load_dotenv\n",
    "from bs4 import BeautifulSoup\n",
    "from IPython.display import Markdown, display, update_display\n",
    "from openai import OpenAI"
   ]
  },
  {
   "cell_type": "code",
   "execution_count": 2,
   "id": "b98c46f5",
   "metadata": {},
   "outputs": [
    {
     "name": "stdout",
     "output_type": "stream",
     "text": [
      "API key looks good so far\n"
     ]
    }
   ],
   "source": [
    "# Initialize and constants\n",
    "\n",
    "load_dotenv(override=True)\n",
    "api_key = os.getenv('OPENAI_API_KEY')\n",
    "\n",
    "if api_key and api_key.startswith('sk-proj-') and len(api_key)>10:\n",
    "    print(\"API key looks good so far\")\n",
    "else:\n",
    "    print(\"There might be a problem with your API key? Please visit the troubleshooting notebook!\")\n",
    "    \n",
    "MODEL = 'gpt-4o-mini'\n",
    "openai = OpenAI()"
   ]
  },
  {
   "cell_type": "code",
   "execution_count": 3,
   "id": "6fa1bbfc",
   "metadata": {},
   "outputs": [],
   "source": [
    "# A class to represent a Webpage\n",
    "\n",
    "# Some websites need you to use proper headers when fetching them:\n",
    "headers = {\n",
    " \"User-Agent\": \"Mozilla/5.0 (Windows NT 10.0; Win64; x64) AppleWebKit/537.36 (KHTML, like Gecko) Chrome/117.0.0.0 Safari/537.36\"\n",
    "}\n",
    "\n",
    "class Website:\n",
    "    \"\"\"\n",
    "    A utility class to represent a Website that we have scraped, now with links\n",
    "    \"\"\"\n",
    "\n",
    "    def __init__(self, url):\n",
    "        self.url = url\n",
    "        response = requests.get(url, headers=headers)\n",
    "        self.body = response.content\n",
    "        soup = BeautifulSoup(self.body, 'html.parser')\n",
    "        self.title = soup.title.string if soup.title else \"No title found\"\n",
    "        if soup.body:\n",
    "            for irrelevant in soup.body([\"script\", \"style\", \"img\", \"input\"]):\n",
    "                irrelevant.decompose()\n",
    "            self.text = soup.body.get_text(separator=\"\\n\", strip=True)\n",
    "        else:\n",
    "            self.text = \"\"\n",
    "        links = [link.get('href') for link in soup.find_all('a')]\n",
    "        self.links = [link for link in links if link]\n",
    "\n",
    "    def get_contents(self):\n",
    "        return f\"Webpage Title:\\n{self.title}\\nWebpage Contents:\\n{self.text}\\n\\n\""
   ]
  },
  {
   "cell_type": "code",
   "execution_count": 4,
   "id": "b09b0122",
   "metadata": {},
   "outputs": [
    {
     "data": {
      "text/plain": [
       "'Hugging Face – The AI community building the future.'"
      ]
     },
     "execution_count": 4,
     "metadata": {},
     "output_type": "execute_result"
    }
   ],
   "source": [
    "huggingface = Website(\"https://huggingface.co\")\n",
    "huggingface.title"
   ]
  },
  {
   "cell_type": "code",
   "execution_count": 8,
   "id": "6abba72e",
   "metadata": {},
   "outputs": [
    {
     "name": "stdout",
     "output_type": "stream",
     "text": [
      "Webpage Title:\n",
      "Hugging Face – The AI community building the future.\n",
      "Webpage Contents:\n",
      "Hugging Face\n",
      "Models\n",
      "Datasets\n",
      "Spaces\n",
      "Community\n",
      "Docs\n",
      "Enterprise\n",
      "Pricing\n",
      "Log In\n",
      "Sign Up\n",
      "NEW\n",
      "Get started with Inference in seconds 🚀\n",
      "Reachy Mini: The Open Robot for AI Builders\n",
      "Welcome Cohere on the Hub 🔥\n",
      "The AI community building the future.\n",
      "The platform where the machine learning community collaborates on models, datasets, and applications.\n",
      "Explore AI Apps\n",
      "or\n",
      "Browse 1M+ models\n",
      "Trending on\n",
      "this week\n",
      "Models\n",
      "Qwen/Qwen3-Coder-480B-A35B-Instruct\n",
      "Updated\n",
      "5 days ago\n",
      "•\n",
      "14.4k\n",
      "•\n",
      "861\n",
      "zai-org/GLM-4.5\n",
      "Updated\n",
      "about 23 hours ago\n",
      "•\n",
      "919\n",
      "•\n",
      "500\n",
      "bosonai/higgs-audio-v2-generation-3B-base\n",
      "Updated\n",
      "about 16 hours ago\n",
      "•\n",
      "82.5k\n",
      "•\n",
      "423\n",
      "tencent/HunyuanWorld-1\n",
      "Updated\n",
      "about 21 hours ago\n",
      "•\n",
      "5.43k\n",
      "•\n",
      "395\n",
      "Qwen/Qwen3-235B-A22B-Instruct-2507\n",
      "Updated\n",
      "about 2 hours ago\n",
      "•\n",
      "18.5k\n",
      "•\n",
      "545\n",
      "Browse 1M+ models\n",
      "Spaces\n",
      "Running\n",
      "11.1k\n",
      "11.1k\n",
      "DeepSite v2\n",
      "🐳\n",
      "Generate any application with DeepSeek\n",
      "Running\n",
      "on\n",
      "Zero\n",
      "204\n",
      "204\n",
      "Higgs Audio Demo\n",
      "🎤\n",
      "Higgs Audio Demo\n",
      "Run\n"
     ]
    }
   ],
   "source": [
    "print(huggingface.get_contents()[:1000]) # show the first 1000 characters of the content"
   ]
  },
  {
   "cell_type": "code",
   "execution_count": 9,
   "id": "3fdefff2",
   "metadata": {},
   "outputs": [
    {
     "data": {
      "text/plain": [
       "['/',\n",
       " '/models',\n",
       " '/datasets',\n",
       " '/spaces',\n",
       " '/docs',\n",
       " '/enterprise',\n",
       " '/pricing',\n",
       " '/login',\n",
       " '/join',\n",
       " 'inference/get-started']"
      ]
     },
     "execution_count": 9,
     "metadata": {},
     "output_type": "execute_result"
    }
   ],
   "source": [
    "huggingface.links[:10]  # show first 10 links"
   ]
  },
  {
   "cell_type": "code",
   "execution_count": 10,
   "id": "02d2d6d7",
   "metadata": {},
   "outputs": [],
   "source": [
    "## system prompt for link selection\n",
    "system_prompt = \"You are an assistant that analyzes several links from a website and selects the most relevant ones \\\n",
    "    for creating a brochure about the company. Only select links that are likely to contain useful information \\\n",
    "    about the company's culture, customers, products, services, and careers.\\n\"\n",
    "system_prompt+=\"Response should be in JSON format.\\n \"\n",
    "system_prompt+=\"If /about, /careers are 2 links from https://www.huggingface.co then the response should be:\\n\"\n",
    "system_prompt+=\"\"\"{\\\n",
    "    \"links\":[\n",
    "        {\"type\": \"about\", \"url\": \"https://www.huggingface.co/about\"},\\\n",
    "        {\"type\": \"careers\", \"url\": \"https://www.huggingface.co/careers\"}\n",
    "    ]\n",
    "}\"\"\""
   ]
  },
  {
   "cell_type": "code",
   "execution_count": 36,
   "id": "a35d9b4d",
   "metadata": {},
   "outputs": [],
   "source": [
    "def get_links_user_prompt(website: Website):\n",
    "    user_prompt = f'here are some links from the website {website.url} -'\n",
    "    user_prompt += f\"You should decide which of these links are relevant for creating a brochure about the company,\\\n",
    "         respond with the full https URL in JSON format.\\n\"\n",
    "    user_prompt += \"Links(some might be relative links):\\n\"\n",
    "    user_prompt += \"\\n\".join(website.links)  # limit to first 50 links to avoid too much text\n",
    "    return user_prompt"
   ]
  },
  {
   "cell_type": "code",
   "execution_count": 37,
   "id": "dc02812e",
   "metadata": {},
   "outputs": [
    {
     "name": "stdout",
     "output_type": "stream",
     "text": [
      "here are some links from the website https://huggingface.co -You should decide which of these links are relevant for creating a brochure about the company,         respond with the full https URL in JSON format.\n",
      "Links(some might be relative links):\n",
      "/\n",
      "/models\n",
      "/datasets\n",
      "/spaces\n",
      "/docs\n",
      "/enterprise\n",
      "/pricing\n",
      "/login\n",
      "/join\n",
      "inference/get-started\n",
      "/spaces\n",
      "/models\n",
      "/Qwen/Qwen3-Coder-480B-A35B-Instruct\n",
      "/zai-org/GLM-4.5\n",
      "/bosonai/higgs-audio-v2-generation-3B-base\n",
      "/tencent/HunyuanWorld-1\n",
      "/Qwen/Qwen3-235B-A22B-Instruct-2507\n",
      "/models\n",
      "/spaces/enzostvs/deepsite\n",
      "/spaces/smola/higgs_audio_v2\n",
      "/spaces/Qwen/Qwen3-Coder-WebDev\n",
      "/spaces/zumjoy/Multi-Style_Video-to-Anime_Generator\n",
      "/spaces/black-forest-labs/FLUX.1-Kontext-Dev\n",
      "/spaces\n",
      "/datasets/fka/awesome-chatgpt-prompts\n",
      "/datasets/interstellarninja/hermes_reasoning_tool_use\n",
      "/datasets/NousResearch/Hermes-3-Dataset\n",
      "/datasets/MegaScience/MegaScience\n",
      "/datasets/microsoft/rStar-Coder\n",
      "/datasets\n",
      "/join\n",
      "/pricing#endpoints\n",
      "/pricing#spaces\n",
      "/pricing\n",
      "/enterprise\n",
      "/enterprise\n",
      "/enterprise\n",
      "/enterprise\n",
      "/enterprise\n",
      "/enterprise\n",
      "/enterprise\n",
      "/allenai\n",
      "/facebook\n",
      "/amazon\n",
      "/google\n",
      "/Intel\n",
      "/microsoft\n",
      "/grammarly\n",
      "/Writer\n",
      "/docs/transformers\n",
      "/docs/diffusers\n",
      "/docs/safetensors\n",
      "/docs/huggingface_hub\n",
      "/docs/tokenizers\n",
      "/docs/trl\n",
      "/docs/transformers.js\n",
      "/docs/smolagents\n",
      "/docs/peft\n",
      "/docs/datasets\n",
      "/docs/text-generation-inference\n",
      "/docs/accelerate\n",
      "/models\n",
      "/datasets\n",
      "/spaces\n",
      "/changelog\n",
      "https://endpoints.huggingface.co\n",
      "/chat\n",
      "/huggingface\n",
      "/brand\n",
      "/terms-of-service\n",
      "/privacy\n",
      "https://apply.workable.com/huggingface/\n",
      "mailto:press@huggingface.co\n",
      "/learn\n",
      "/docs\n",
      "/blog\n",
      "https://discuss.huggingface.co\n",
      "https://status.huggingface.co/\n",
      "https://github.com/huggingface\n",
      "https://twitter.com/huggingface\n",
      "https://www.linkedin.com/company/huggingface/\n",
      "/join/discord\n"
     ]
    }
   ],
   "source": [
    "print(get_links_user_prompt(huggingface))"
   ]
  },
  {
   "cell_type": "code",
   "execution_count": 42,
   "id": "2b570ada",
   "metadata": {},
   "outputs": [],
   "source": [
    "def get_links(url):\n",
    "    # user_prompt = get_links_user_prompt(website)\n",
    "    website = Website(url)  # limit to first 50 links to avoid too much text\n",
    "    response = openai.chat.completions.create(\n",
    "        model=MODEL,\n",
    "        messages=[\n",
    "            {\"role\": \"system\", \"content\": system_prompt},\n",
    "            {\"role\": \"user\", \"content\": get_links_user_prompt(website)},\n",
    "        ],\n",
    "        response_format={\"type\": \"json_object\"},\n",
    "    )\n",
    "    content = response.choices[0].message.content\n",
    "    return json.loads(content)"
   ]
  },
  {
   "cell_type": "code",
   "execution_count": 43,
   "id": "20ff96d7",
   "metadata": {},
   "outputs": [
    {
     "data": {
      "text/plain": [
       "{'links': [{'type': 'about', 'url': 'https://www.huggingface.co'},\n",
       "  {'type': 'careers', 'url': 'https://apply.workable.com/huggingface/'},\n",
       "  {'type': 'blog', 'url': 'https://www.huggingface.co/blog'},\n",
       "  {'type': 'enterprise', 'url': 'https://www.huggingface.co/enterprise'},\n",
       "  {'type': 'pricing', 'url': 'https://www.huggingface.co/pricing'},\n",
       "  {'type': 'models', 'url': 'https://www.huggingface.co/models'},\n",
       "  {'type': 'datasets', 'url': 'https://www.huggingface.co/datasets'},\n",
       "  {'type': 'spaces', 'url': 'https://www.huggingface.co/spaces'},\n",
       "  {'type': 'docs', 'url': 'https://www.huggingface.co/docs'}]}"
      ]
     },
     "execution_count": 43,
     "metadata": {},
     "output_type": "execute_result"
    }
   ],
   "source": [
    "get_links(\"https://www.huggingface.co\")"
   ]
  },
  {
   "cell_type": "code",
   "execution_count": null,
   "id": "e3a75062",
   "metadata": {},
   "outputs": [],
   "source": []
  }
 ],
 "metadata": {
  "kernelspec": {
   "display_name": "llms",
   "language": "python",
   "name": "python3"
  },
  "language_info": {
   "codemirror_mode": {
    "name": "ipython",
    "version": 3
   },
   "file_extension": ".py",
   "mimetype": "text/x-python",
   "name": "python",
   "nbconvert_exporter": "python",
   "pygments_lexer": "ipython3",
   "version": "3.11.11"
  }
 },
 "nbformat": 4,
 "nbformat_minor": 5
}
